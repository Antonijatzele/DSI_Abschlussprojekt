{
 "cells": [
  {
   "cell_type": "markdown",
   "id": "d7ca31ec-3975-4dc2-ba24-88e0f0399493",
   "metadata": {},
   "source": [
    "## Destatis: Allgemeinbildende Schulen\n",
    "https://www.destatis.de/DE/Themen/Gesellschaft-Umwelt/Bildung-Forschung-Kultur/Schulen/Publikationen/_publikationen-innen-schulen-allgemeinbildende.html\n",
    "\n",
    "### Tabelle 21111-03:\n",
    "\n",
    "- Schüler/-innen (Deutsche, Ausländer/-innen) nach Bildungsbereichen, rechtlichem Status der Schule, Schularten und Geschlecht\n",
    "- Schuljahr 2021/2022, 2022/2023, 2023/2024 \n",
    "\n",
    "### Tabelle 21111-08:\n",
    "\n",
    "- Ausländische Schüler/-innen nach Schularten, Staatsangehörigkeit und Geschlecht\n",
    "- Schuljahr 2021/2022, 2022/2023, 2023/2024 \n",
    "\n",
    "### Tabelle 21111-12:\n",
    "\n",
    "- Absolvierende / Abgehende (Deutsche, Ausländer/-innen) nach Abschluss-, Schularten, Klassen-/Jahrgangsstufen und Geschlecht (einschl. Externe) \n",
    "- Jahre 2021 / 2022 / 2023"
   ]
  },
  {
   "cell_type": "code",
   "execution_count": 51,
   "id": "81b91a00-16a4-4ac7-ba4c-fb747d648497",
   "metadata": {},
   "outputs": [],
   "source": [
    "import pandas as pd\n",
    "import numpy as np"
   ]
  },
  {
   "cell_type": "markdown",
   "id": "97e5d653-be31-4c6d-9ce3-407f9d14f3b0",
   "metadata": {},
   "source": [
    "### Tabellen 21111-03, 21111-08 und 21111-12 der einzelnen Schuljahre als csv speichern"
   ]
  },
  {
   "cell_type": "code",
   "execution_count": 1,
   "id": "e89b00e6-6641-4f80-8099-9b99b512a438",
   "metadata": {},
   "outputs": [],
   "source": [
    "df = pd.read_excel('2110100227005_SB_korr12102023_2021_2022.xlsx', sheet_name='csv-21111-03')  \n",
    "df.to_csv('allgemeinbildende_schulen_2021_202221111-03.csv', index=False, sep=';') "
   ]
  },
  {
   "cell_type": "code",
   "execution_count": 41,
   "id": "288d2d1f-19f1-4950-be9f-88ce4ddd95de",
   "metadata": {},
   "outputs": [],
   "source": [
    "df = pd.read_excel('2110100227005_SB_korr12102023_2021_2022.xlsx', sheet_name='csv-21111-08')  \n",
    "df.to_csv('allgemeinbildende_schulen_2021_2022_21111-08.csv', index=False, sep=\";\") "
   ]
  },
  {
   "cell_type": "code",
   "execution_count": 42,
   "id": "484926b8-000a-40b7-8b8b-3afbd6ea1787",
   "metadata": {},
   "outputs": [],
   "source": [
    "# Bereinigung der Tabellen -08 , da einige Zeilen beim Einlesen verschoben wurden (da wo ein Komma in Staatsangehörigkeit vorhanden)\n",
    "\n",
    "df = pd.read_csv(\"allgemeinbildende_schulen_2021_2022_21111-08.csv\", sep =';')\n",
    "\n",
    "# Gültige Werte für Geschlecht\n",
    "gueltige_geschlechter = ['Insgesamt', 'männlich', 'weiblich']\n",
    "\n",
    "def korrigiere_zeile(row):\n",
    "    if row['Geschlecht'] not in gueltige_geschlechter:\n",
    "        # Staatsangehoerigkeit + \", \" + Geschlecht\n",
    "        row['Staatsangehoerigkeit'] = row['Staatsangehoerigkeit'].strip() + \", \" + row['Geschlecht'].strip()\n",
    "        # Werte nach links schieben\n",
    "        row['Geschlecht'] = row['auslaendische_Schueler_innen_Anzahl']\n",
    "        row['auslaendische_Schueler_innen_Anzahl'] = row['Extra']\n",
    "        row['Extra'] = ''\n",
    "    return row\n",
    "\n",
    "df = df.apply(korrigiere_zeile, axis=1)\n",
    "\n",
    "# In neue Datei schreiben\n",
    "df['auslaendische_Schueler_innen_Anzahl'] = pd.to_numeric(df['auslaendische_Schueler_innen_Anzahl'], errors='coerce').fillna(0).astype(int)\n",
    "df = df.drop(columns=['Extra'])\n",
    "df.to_csv('allgemeinbildende_schulen_2021_2022_21111-08.csv', index=False)"
   ]
  },
  {
   "cell_type": "code",
   "execution_count": 3,
   "id": "bb98b891-861b-41e7-9ac2-8db0d15aa624",
   "metadata": {},
   "outputs": [],
   "source": [
    "df = pd.read_excel('2110100227005_SB_korr12102023_2021_2022.xlsx', sheet_name='csv-21111-12')  \n",
    "df.to_csv('allgemeinbildende_schulen_2021_21111-12.csv', index=False, sep=';') "
   ]
  },
  {
   "cell_type": "code",
   "execution_count": 5,
   "id": "2d01b288-277e-4fe9-842e-41daeab041bb",
   "metadata": {},
   "outputs": [
    {
     "name": "stderr",
     "output_type": "stream",
     "text": [
      "C:\\Users\\alexa\\AppData\\Local\\Programs\\Python\\Python313\\Lib\\site-packages\\openpyxl\\worksheet\\header_footer.py:48: UserWarning: Cannot parse header or footer so it will be ignored\n",
      "  warn(\"\"\"Cannot parse header or footer so it will be ignored\"\"\")\n"
     ]
    }
   ],
   "source": [
    "df = pd.read_excel('statistischer-bericht-allgemeinbildende-schulen-2110100237005_2022_2023.xlsx', sheet_name='csv-21111-03')  \n",
    "df.to_csv('allgemeinbildende_schulen_2022_2023_21111-03.csv', index=False, sep=';') "
   ]
  },
  {
   "cell_type": "code",
   "execution_count": 44,
   "id": "61bc0e94-1651-4dc0-9704-0ec3f2af3202",
   "metadata": {},
   "outputs": [],
   "source": [
    "df = pd.read_excel('statistischer-bericht-allgemeinbildende-schulen-2110100237005_2022_2023.xlsx', sheet_name='csv-21111-08')  \n",
    "df.to_csv('allgemeinbildende_schulen_2022_2023_21111-08.csv', index=False, sep=';') "
   ]
  },
  {
   "cell_type": "code",
   "execution_count": 45,
   "id": "417ba3ce-43e4-4d25-b130-4f83a0549a48",
   "metadata": {},
   "outputs": [],
   "source": [
    "# Bereinigung der Tabellen -08 , da einige Zeilen beim Einlesen verschoben wurden (da wo ein Komma in Staatsangehörigkeit vorhanden)\n",
    "\n",
    "df = pd.read_csv(\"allgemeinbildende_schulen_2022_2023_21111-08.csv\", sep =';')\n",
    "\n",
    "# Gültige Werte für Geschlecht\n",
    "gueltige_geschlechter = ['Insgesamt', 'männlich', 'weiblich']\n",
    "\n",
    "def korrigiere_zeile(row):\n",
    "    if row['Geschlecht'] not in gueltige_geschlechter:\n",
    "        # Staatsangehoerigkeit + \", \" + Geschlecht\n",
    "        row['Staatsangehoerigkeit'] = row['Staatsangehoerigkeit'].strip() + \", \" + row['Geschlecht'].strip()\n",
    "        # Werte nach links schieben\n",
    "        row['Geschlecht'] = row['auslaendische_Schueler_innen_Anzahl']\n",
    "        row['auslaendische_Schueler_innen_Anzahl'] = row['Extra']\n",
    "        row['Extra'] = ''\n",
    "    return row\n",
    "\n",
    "df = df.apply(korrigiere_zeile, axis=1)\n",
    "\n",
    "# In neue Datei schreiben\n",
    "df['auslaendische_Schueler_innen_Anzahl'] = pd.to_numeric(df['auslaendische_Schueler_innen_Anzahl'], errors='coerce').fillna(0).astype(int)\n",
    "df = df.drop(columns=['Extra'])\n",
    "df.to_csv('allgemeinbildende_schulen_2022_2023_21111-08.csv', index=False)"
   ]
  },
  {
   "cell_type": "code",
   "execution_count": 7,
   "id": "9e29944a-1e22-4776-a086-d383edfa9324",
   "metadata": {},
   "outputs": [
    {
     "name": "stderr",
     "output_type": "stream",
     "text": [
      "C:\\Users\\alexa\\AppData\\Local\\Programs\\Python\\Python313\\Lib\\site-packages\\openpyxl\\worksheet\\header_footer.py:48: UserWarning: Cannot parse header or footer so it will be ignored\n",
      "  warn(\"\"\"Cannot parse header or footer so it will be ignored\"\"\")\n"
     ]
    }
   ],
   "source": [
    "df = pd.read_excel('statistischer-bericht-allgemeinbildende-schulen-2110100237005_2022_2023.xlsx', sheet_name='csv-21111-12')  \n",
    "df.to_csv('allgemeinbildende_schulen_2022_2023_21111-12.csv', index=False, sep=';') "
   ]
  },
  {
   "cell_type": "code",
   "execution_count": 8,
   "id": "1054e532-58aa-419e-a584-f147c8e1f314",
   "metadata": {},
   "outputs": [
    {
     "name": "stderr",
     "output_type": "stream",
     "text": [
      "C:\\Users\\alexa\\AppData\\Local\\Programs\\Python\\Python313\\Lib\\site-packages\\openpyxl\\worksheet\\header_footer.py:48: UserWarning: Cannot parse header or footer so it will be ignored\n",
      "  warn(\"\"\"Cannot parse header or footer so it will be ignored\"\"\")\n"
     ]
    }
   ],
   "source": [
    "df = pd.read_excel('statistischer-bericht-allgemeinbildende-schulen-2110100247005_2023_2024.xlsx', sheet_name='csv-21111-03')  \n",
    "df.to_csv('allgemeinbildende_schulen_2023_2024_21111-03.csv', index=False, sep=';') "
   ]
  },
  {
   "cell_type": "code",
   "execution_count": 46,
   "id": "dbe742b2-62fc-4ed8-b361-13af691c0625",
   "metadata": {},
   "outputs": [],
   "source": [
    "df = pd.read_excel('statistischer-bericht-allgemeinbildende-schulen-2110100247005_2023_2024.xlsx', sheet_name='csv-21111-08')  \n",
    "df.to_csv('allgemeinbildende_schulen_2023_2024_21111-08.csv', index=False, sep=';') "
   ]
  },
  {
   "cell_type": "code",
   "execution_count": 47,
   "id": "2967191e-b123-4352-b39b-0f129d8834da",
   "metadata": {},
   "outputs": [],
   "source": [
    "# Bereinigung der Tabellen -08 , da einige Zeilen beim Einlesen verschoben wurden (da wo ein Komma in Staatsangehörigkeit vorhanden)\n",
    "\n",
    "df = pd.read_csv(\"allgemeinbildende_schulen_2023_2024_21111-08.csv\", sep =';')\n",
    "\n",
    "# Gültige Werte für Geschlecht\n",
    "gueltige_geschlechter = ['Insgesamt', 'männlich', 'weiblich']\n",
    "\n",
    "def korrigiere_zeile(row):\n",
    "    if row['Geschlecht'] not in gueltige_geschlechter:\n",
    "        # Staatsangehoerigkeit + \", \" + Geschlecht\n",
    "        row['Staatsangehoerigkeit'] = row['Staatsangehoerigkeit'].strip() + \", \" + row['Geschlecht'].strip()\n",
    "        # Werte nach links schieben\n",
    "        row['Geschlecht'] = row['auslaendische_Schueler_innen_Anzahl']\n",
    "        row['auslaendische_Schueler_innen_Anzahl'] = row['Extra']\n",
    "        row['Extra'] = ''\n",
    "    return row\n",
    "\n",
    "df = df.apply(korrigiere_zeile, axis=1)\n",
    "\n",
    "# In neue Datei schreiben\n",
    "df['auslaendische_Schueler_innen_Anzahl'] = pd.to_numeric(df['auslaendische_Schueler_innen_Anzahl'], errors='coerce').fillna(0).astype(int)\n",
    "df = df.drop(columns=['Extra'])\n",
    "df.to_csv('allgemeinbildende_schulen_2023_2024_21111-08.csv', index=False)"
   ]
  },
  {
   "cell_type": "code",
   "execution_count": 10,
   "id": "de51030c-9993-45f8-a800-114b995d9bfd",
   "metadata": {},
   "outputs": [],
   "source": [
    "df = pd.read_excel('statistischer-bericht-allgemeinbildende-schulen-2110100247005_2023_2024.xlsx', sheet_name='csv-21111-12')  \n",
    "df.to_csv('allgemeinbildende_schulen_2023_21111-12.csv', index=False, sep=';') "
   ]
  },
  {
   "cell_type": "markdown",
   "id": "f4c7a366-f615-4028-aeae-431ae6456e0c",
   "metadata": {},
   "source": [
    "### 21111-03 - Tabellen der einzelnen Jahre zusammenfügen"
   ]
  },
  {
   "cell_type": "code",
   "execution_count": 26,
   "id": "09a166d4-95f5-4ee4-802a-52563e435ed1",
   "metadata": {},
   "outputs": [],
   "source": [
    "# CSV-Dateien einlesen\n",
    "df1 = pd.read_csv('allgemeinbildende_schulen_2021_2022_21111-03.csv')\n",
    "df2 = pd.read_csv('allgemeinbildende_schulen_2022_2023_21111-03.csv')\n",
    "df3 = pd.read_csv('allgemeinbildende_schulen_2023_2024_21111-03.csv')\n",
    "\n",
    "# Zusammenfügen (untereinander)\n",
    "df_gesamt = pd.concat([df1, df2, df3], ignore_index=True)\n",
    "\n",
    "# In neue Datei schreiben \n",
    "df_gesamt.to_csv('Destatis_21111-03_allgemeinbildende_schulen_2021_2024_zusammengefuegt.csv', index=False)"
   ]
  },
  {
   "cell_type": "markdown",
   "id": "37087d4b-00d5-428f-a1b9-5746cf994e75",
   "metadata": {},
   "source": [
    "### 21111-08 - Tabellen der einzelnen Jahre zusammenfügen\n"
   ]
  },
  {
   "cell_type": "code",
   "execution_count": 48,
   "id": "b89c1c0b-80f0-4487-9ed0-13e02b609219",
   "metadata": {},
   "outputs": [],
   "source": [
    "# CSV-Dateien einlesen\n",
    "df1 = pd.read_csv('allgemeinbildende_schulen_2021_2022_21111-08.csv')\n",
    "df2 = pd.read_csv('allgemeinbildende_schulen_2022_2023_21111-08.csv')\n",
    "df3 = pd.read_csv('allgemeinbildende_schulen_2023_2024_21111-08.csv')\n",
    "\n",
    "# Zusammenfügen (untereinander)\n",
    "df_gesamt = pd.concat([df1, df2, df3], ignore_index=True)\n",
    "\n",
    "# In neue Datei schreiben \n",
    "df_gesamt.to_csv('Destatis_21111-08_allgemeinbildende_schulen_2021_2024_zusammengefuegt.csv', index=False)"
   ]
  },
  {
   "cell_type": "markdown",
   "id": "71a56d2f-457c-4996-ae2d-cb4cef20d74b",
   "metadata": {},
   "source": [
    "### 21111-12 - Tabellen der einzelnen Jahre zusammenfügen"
   ]
  },
  {
   "cell_type": "code",
   "execution_count": 50,
   "id": "1454b91e-17ff-478c-a8a4-365069d5cd01",
   "metadata": {},
   "outputs": [],
   "source": [
    "# CSV-Dateien einlesen\n",
    "df1 = pd.read_csv('allgemeinbildende_schulen_2021_21111-12.csv')\n",
    "df2 = pd.read_csv('allgemeinbildende_schulen_2022_21111-12.csv')\n",
    "df3 = pd.read_csv('allgemeinbildende_schulen_2023_21111-12.csv')\n",
    "\n",
    "# Zusammenfügen (untereinander)\n",
    "df_gesamt = pd.concat([df1, df2, df3], ignore_index=True)\n",
    "\n",
    "# In neue Datei schreiben \n",
    "df_gesamt.to_csv('Destatis_21111-12_allgemeinbildende_schulen_2021_2023_zusammengefuegt.csv', index=False)"
   ]
  },
  {
   "cell_type": "code",
   "execution_count": null,
   "id": "ca02d81d-cbd9-43b0-b41e-d454cbff030c",
   "metadata": {},
   "outputs": [],
   "source": []
  }
 ],
 "metadata": {
  "kernelspec": {
   "display_name": "Python 3 (ipykernel)",
   "language": "python",
   "name": "python3"
  },
  "language_info": {
   "codemirror_mode": {
    "name": "ipython",
    "version": 3
   },
   "file_extension": ".py",
   "mimetype": "text/x-python",
   "name": "python",
   "nbconvert_exporter": "python",
   "pygments_lexer": "ipython3",
   "version": "3.13.2"
  }
 },
 "nbformat": 4,
 "nbformat_minor": 5
}
