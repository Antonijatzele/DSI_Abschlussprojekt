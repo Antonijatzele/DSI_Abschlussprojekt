{
 "cells": [
  {
   "cell_type": "code",
   "execution_count": 11,
   "id": "627d7c79-f5b4-4b82-b832-0e896c316698",
   "metadata": {},
   "outputs": [],
   "source": [
    "import pandas as pd\n",
    "\n",
    "# Pfad zur heruntergeladenen Excel-Datei\n",
    "dateipfad = '04-kreise.xlsx'\n",
    "\n",
    "# Excel-Datei einlesen\n",
    "df = pd.read_excel(dateipfad, sheet_name='Kreisfreie Städte u. Landkreise')\n",
    "\n",
    "\n",
    "# Ausgabe des DataFrames\n",
    "df[df[\"KREISE\"].str.len() == 5]\n",
    "\n",
    "df.to_csv(\"kreise.csv\")"
   ]
  },
  {
   "cell_type": "code",
   "execution_count": null,
   "id": "b3aef884-fabc-4716-b10f-b6b4e9a4230d",
   "metadata": {},
   "outputs": [],
   "source": [
    "df = json2df(\"12521-0043_2024\")\n",
    "\n"
   ]
  },
  {
   "cell_type": "code",
   "execution_count": 12,
   "id": "7d2908a0-6c54-4826-8856-d30073f2adfb",
   "metadata": {},
   "outputs": [
    {
     "name": "stdout",
     "output_type": "stream",
     "text": [
      "Collecting streamlit_folium\n",
      "  Downloading streamlit_folium-0.25.0-py3-none-any.whl.metadata (621 bytes)\n",
      "Requirement already satisfied: streamlit>=1.35.0 in c:\\users\\clemens\\appdata\\local\\programs\\python\\python313\\lib\\site-packages (from streamlit_folium) (1.44.1)\n",
      "Requirement already satisfied: folium!=0.15.0,>=0.13 in c:\\users\\clemens\\appdata\\local\\programs\\python\\python313\\lib\\site-packages (from streamlit_folium) (0.19.6)\n",
      "Requirement already satisfied: jinja2 in c:\\users\\clemens\\appdata\\local\\programs\\python\\python313\\lib\\site-packages (from streamlit_folium) (3.1.5)\n",
      "Requirement already satisfied: branca in c:\\users\\clemens\\appdata\\local\\programs\\python\\python313\\lib\\site-packages (from streamlit_folium) (0.8.1)\n",
      "Requirement already satisfied: numpy in c:\\users\\clemens\\appdata\\local\\programs\\python\\python313\\lib\\site-packages (from folium!=0.15.0,>=0.13->streamlit_folium) (2.2.4)\n",
      "Requirement already satisfied: requests in c:\\users\\clemens\\appdata\\local\\programs\\python\\python313\\lib\\site-packages (from folium!=0.15.0,>=0.13->streamlit_folium) (2.32.3)\n",
      "Requirement already satisfied: xyzservices in c:\\users\\clemens\\appdata\\local\\programs\\python\\python313\\lib\\site-packages (from folium!=0.15.0,>=0.13->streamlit_folium) (2025.4.0)\n",
      "Requirement already satisfied: MarkupSafe>=2.0 in c:\\users\\clemens\\appdata\\local\\programs\\python\\python313\\lib\\site-packages (from jinja2->streamlit_folium) (3.0.2)\n",
      "Requirement already satisfied: altair<6,>=4.0 in c:\\users\\clemens\\appdata\\local\\programs\\python\\python313\\lib\\site-packages (from streamlit>=1.35.0->streamlit_folium) (5.5.0)\n",
      "Requirement already satisfied: blinker<2,>=1.0.0 in c:\\users\\clemens\\appdata\\local\\programs\\python\\python313\\lib\\site-packages (from streamlit>=1.35.0->streamlit_folium) (1.9.0)\n",
      "Requirement already satisfied: cachetools<6,>=4.0 in c:\\users\\clemens\\appdata\\local\\programs\\python\\python313\\lib\\site-packages (from streamlit>=1.35.0->streamlit_folium) (5.5.2)\n",
      "Requirement already satisfied: click<9,>=7.0 in c:\\users\\clemens\\appdata\\local\\programs\\python\\python313\\lib\\site-packages (from streamlit>=1.35.0->streamlit_folium) (8.1.8)\n",
      "Requirement already satisfied: packaging<25,>=20 in c:\\users\\clemens\\appdata\\local\\programs\\python\\python313\\lib\\site-packages (from streamlit>=1.35.0->streamlit_folium) (24.2)\n",
      "Requirement already satisfied: pandas<3,>=1.4.0 in c:\\users\\clemens\\appdata\\local\\programs\\python\\python313\\lib\\site-packages (from streamlit>=1.35.0->streamlit_folium) (2.2.3)\n",
      "Requirement already satisfied: pillow<12,>=7.1.0 in c:\\users\\clemens\\appdata\\local\\programs\\python\\python313\\lib\\site-packages (from streamlit>=1.35.0->streamlit_folium) (11.1.0)\n",
      "Requirement already satisfied: protobuf<6,>=3.20 in c:\\users\\clemens\\appdata\\local\\programs\\python\\python313\\lib\\site-packages (from streamlit>=1.35.0->streamlit_folium) (5.29.4)\n",
      "Requirement already satisfied: pyarrow>=7.0 in c:\\users\\clemens\\appdata\\local\\programs\\python\\python313\\lib\\site-packages (from streamlit>=1.35.0->streamlit_folium) (20.0.0)\n",
      "Requirement already satisfied: tenacity<10,>=8.1.0 in c:\\users\\clemens\\appdata\\local\\programs\\python\\python313\\lib\\site-packages (from streamlit>=1.35.0->streamlit_folium) (9.1.2)\n",
      "Requirement already satisfied: toml<2,>=0.10.1 in c:\\users\\clemens\\appdata\\local\\programs\\python\\python313\\lib\\site-packages (from streamlit>=1.35.0->streamlit_folium) (0.10.2)\n",
      "Requirement already satisfied: typing-extensions<5,>=4.4.0 in c:\\users\\clemens\\appdata\\local\\programs\\python\\python313\\lib\\site-packages (from streamlit>=1.35.0->streamlit_folium) (4.13.2)\n",
      "Requirement already satisfied: watchdog<7,>=2.1.5 in c:\\users\\clemens\\appdata\\local\\programs\\python\\python313\\lib\\site-packages (from streamlit>=1.35.0->streamlit_folium) (6.0.0)\n",
      "Requirement already satisfied: gitpython!=3.1.19,<4,>=3.0.7 in c:\\users\\clemens\\appdata\\local\\programs\\python\\python313\\lib\\site-packages (from streamlit>=1.35.0->streamlit_folium) (3.1.44)\n",
      "Requirement already satisfied: pydeck<1,>=0.8.0b4 in c:\\users\\clemens\\appdata\\local\\programs\\python\\python313\\lib\\site-packages (from streamlit>=1.35.0->streamlit_folium) (0.9.1)\n",
      "Requirement already satisfied: tornado<7,>=6.0.3 in c:\\users\\clemens\\appdata\\local\\programs\\python\\python313\\lib\\site-packages (from streamlit>=1.35.0->streamlit_folium) (6.4.2)\n",
      "Requirement already satisfied: jsonschema>=3.0 in c:\\users\\clemens\\appdata\\local\\programs\\python\\python313\\lib\\site-packages (from altair<6,>=4.0->streamlit>=1.35.0->streamlit_folium) (4.23.0)\n",
      "Requirement already satisfied: narwhals>=1.14.2 in c:\\users\\clemens\\appdata\\local\\programs\\python\\python313\\lib\\site-packages (from altair<6,>=4.0->streamlit>=1.35.0->streamlit_folium) (1.37.0)\n",
      "Requirement already satisfied: colorama in c:\\users\\clemens\\appdata\\local\\programs\\python\\python313\\lib\\site-packages (from click<9,>=7.0->streamlit>=1.35.0->streamlit_folium) (0.4.6)\n",
      "Requirement already satisfied: gitdb<5,>=4.0.1 in c:\\users\\clemens\\appdata\\local\\programs\\python\\python313\\lib\\site-packages (from gitpython!=3.1.19,<4,>=3.0.7->streamlit>=1.35.0->streamlit_folium) (4.0.12)\n",
      "Requirement already satisfied: python-dateutil>=2.8.2 in c:\\users\\clemens\\appdata\\local\\programs\\python\\python313\\lib\\site-packages (from pandas<3,>=1.4.0->streamlit>=1.35.0->streamlit_folium) (2.9.0.post0)\n",
      "Requirement already satisfied: pytz>=2020.1 in c:\\users\\clemens\\appdata\\local\\programs\\python\\python313\\lib\\site-packages (from pandas<3,>=1.4.0->streamlit>=1.35.0->streamlit_folium) (2025.1)\n",
      "Requirement already satisfied: tzdata>=2022.7 in c:\\users\\clemens\\appdata\\local\\programs\\python\\python313\\lib\\site-packages (from pandas<3,>=1.4.0->streamlit>=1.35.0->streamlit_folium) (2025.1)\n",
      "Requirement already satisfied: charset-normalizer<4,>=2 in c:\\users\\clemens\\appdata\\local\\programs\\python\\python313\\lib\\site-packages (from requests->folium!=0.15.0,>=0.13->streamlit_folium) (3.4.1)\n",
      "Requirement already satisfied: idna<4,>=2.5 in c:\\users\\clemens\\appdata\\local\\programs\\python\\python313\\lib\\site-packages (from requests->folium!=0.15.0,>=0.13->streamlit_folium) (3.10)\n",
      "Requirement already satisfied: urllib3<3,>=1.21.1 in c:\\users\\clemens\\appdata\\local\\programs\\python\\python313\\lib\\site-packages (from requests->folium!=0.15.0,>=0.13->streamlit_folium) (2.3.0)\n",
      "Requirement already satisfied: certifi>=2017.4.17 in c:\\users\\clemens\\appdata\\local\\programs\\python\\python313\\lib\\site-packages (from requests->folium!=0.15.0,>=0.13->streamlit_folium) (2025.1.31)\n",
      "Requirement already satisfied: smmap<6,>=3.0.1 in c:\\users\\clemens\\appdata\\local\\programs\\python\\python313\\lib\\site-packages (from gitdb<5,>=4.0.1->gitpython!=3.1.19,<4,>=3.0.7->streamlit>=1.35.0->streamlit_folium) (5.0.2)\n",
      "Requirement already satisfied: attrs>=22.2.0 in c:\\users\\clemens\\appdata\\local\\programs\\python\\python313\\lib\\site-packages (from jsonschema>=3.0->altair<6,>=4.0->streamlit>=1.35.0->streamlit_folium) (25.1.0)\n",
      "Requirement already satisfied: jsonschema-specifications>=2023.03.6 in c:\\users\\clemens\\appdata\\local\\programs\\python\\python313\\lib\\site-packages (from jsonschema>=3.0->altair<6,>=4.0->streamlit>=1.35.0->streamlit_folium) (2024.10.1)\n",
      "Requirement already satisfied: referencing>=0.28.4 in c:\\users\\clemens\\appdata\\local\\programs\\python\\python313\\lib\\site-packages (from jsonschema>=3.0->altair<6,>=4.0->streamlit>=1.35.0->streamlit_folium) (0.36.2)\n",
      "Requirement already satisfied: rpds-py>=0.7.1 in c:\\users\\clemens\\appdata\\local\\programs\\python\\python313\\lib\\site-packages (from jsonschema>=3.0->altair<6,>=4.0->streamlit>=1.35.0->streamlit_folium) (0.23.1)\n",
      "Requirement already satisfied: six>=1.5 in c:\\users\\clemens\\appdata\\local\\programs\\python\\python313\\lib\\site-packages (from python-dateutil>=2.8.2->pandas<3,>=1.4.0->streamlit>=1.35.0->streamlit_folium) (1.17.0)\n",
      "Downloading streamlit_folium-0.25.0-py3-none-any.whl (328 kB)\n",
      "Installing collected packages: streamlit_folium\n",
      "Successfully installed streamlit_folium-0.25.0\n",
      "Note: you may need to restart the kernel to use updated packages.\n"
     ]
    },
    {
     "name": "stderr",
     "output_type": "stream",
     "text": [
      "\n",
      "[notice] A new release of pip is available: 25.0.1 -> 25.1.1\n",
      "[notice] To update, run: python.exe -m pip install --upgrade pip\n"
     ]
    }
   ],
   "source": [
    "pip install streamlit_folium"
   ]
  },
  {
   "cell_type": "code",
   "execution_count": null,
   "id": "c02cfd2c-5c23-4286-b62f-79a2ecbf96ab",
   "metadata": {},
   "outputs": [],
   "source": []
  }
 ],
 "metadata": {
  "kernelspec": {
   "display_name": "Python 3 (ipykernel)",
   "language": "python",
   "name": "python3"
  },
  "language_info": {
   "codemirror_mode": {
    "name": "ipython",
    "version": 3
   },
   "file_extension": ".py",
   "mimetype": "text/x-python",
   "name": "python",
   "nbconvert_exporter": "python",
   "pygments_lexer": "ipython3",
   "version": "3.13.2"
  }
 },
 "nbformat": 4,
 "nbformat_minor": 5
}
