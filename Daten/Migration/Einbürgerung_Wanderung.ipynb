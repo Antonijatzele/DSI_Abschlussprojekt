{
 "cells": [
  {
   "cell_type": "code",
   "execution_count": 2,
   "id": "efcceecd-5056-4df6-abcf-933f74987601",
   "metadata": {},
   "outputs": [],
   "source": [
    "from destasis import json2df\n",
    "import pandas as pd"
   ]
  },
  {
   "cell_type": "code",
   "execution_count": 9,
   "id": "ab27136d-4f78-4836-89c4-ff12b74d7f88",
   "metadata": {},
   "outputs": [],
   "source": [
    "df_stat5 = json2df(\"12511-0006_staat\")\n",
    "df_stat5 = df_stat5[df_stat5[\"GES\"] == \"%TOTAL%\"]\n",
    "df_stat5 = df_stat5[df_stat5[\"STAAG6\"] != \"%TOTAL%\"]\n",
    "\n",
    "df_stat5 = df_stat5.groupby([\"Jahr\", \"Staatsangehörigkeit\"])[\"Value\"].sum().reset_index()\n",
    "df_stat5\n",
    "df_stat5.to_csv(\"einbürg_staaten.csv\")"
   ]
  },
  {
   "cell_type": "code",
   "execution_count": 8,
   "id": "56d2244a-5538-4950-9ccb-049c907a0d4c",
   "metadata": {},
   "outputs": [
    {
     "data": {
      "text/html": [
       "<div>\n",
       "<style scoped>\n",
       "    .dataframe tbody tr th:only-of-type {\n",
       "        vertical-align: middle;\n",
       "    }\n",
       "\n",
       "    .dataframe tbody tr th {\n",
       "        vertical-align: top;\n",
       "    }\n",
       "\n",
       "    .dataframe thead th {\n",
       "        text-align: right;\n",
       "    }\n",
       "</style>\n",
       "<table border=\"1\" class=\"dataframe\">\n",
       "  <thead>\n",
       "    <tr style=\"text-align: right;\">\n",
       "      <th></th>\n",
       "      <th>Rechtsgrundlagen</th>\n",
       "      <th>Value</th>\n",
       "    </tr>\n",
       "  </thead>\n",
       "  <tbody>\n",
       "    <tr>\n",
       "      <th>1</th>\n",
       "      <td>Art.2 d. Gesetzes z. Vermind. der Staatenlosig...</td>\n",
       "      <td>3567</td>\n",
       "    </tr>\n",
       "    <tr>\n",
       "      <th>2</th>\n",
       "      <td>Sonstige nicht mehr anwendbare Rechtsgrl. (b.2...</td>\n",
       "      <td>341</td>\n",
       "    </tr>\n",
       "    <tr>\n",
       "      <th>7</th>\n",
       "      <td>§10 Abs.3 StAG (i.V.m. § 10 Abs.1 StAG)</td>\n",
       "      <td>4155</td>\n",
       "    </tr>\n",
       "    <tr>\n",
       "      <th>8</th>\n",
       "      <td>§11 StAngRegG, Dt. Volkszugeh. im Inland (b.2010)</td>\n",
       "      <td>49</td>\n",
       "    </tr>\n",
       "    <tr>\n",
       "      <th>9</th>\n",
       "      <td>§12 Abs.1 StAngRegG,Frühere dt.Staatsang. (b.2...</td>\n",
       "      <td>115</td>\n",
       "    </tr>\n",
       "    <tr>\n",
       "      <th>10</th>\n",
       "      <td>§13 StAG, Ehemalige Deutsche im Ausland lebend</td>\n",
       "      <td>4996</td>\n",
       "    </tr>\n",
       "    <tr>\n",
       "      <th>11</th>\n",
       "      <td>§14 StAG, Ausl.m.Bindungen an Dtl., i.Ausl.lebend</td>\n",
       "      <td>2828</td>\n",
       "    </tr>\n",
       "    <tr>\n",
       "      <th>12</th>\n",
       "      <td>§15 StAG Bundesbeamte im Ausland (bis 2004)</td>\n",
       "      <td>4</td>\n",
       "    </tr>\n",
       "    <tr>\n",
       "      <th>13</th>\n",
       "      <td>§15 StAG, Wiedergutmachungseinbürg.nach Verfol...</td>\n",
       "      <td>2610</td>\n",
       "    </tr>\n",
       "    <tr>\n",
       "      <th>14</th>\n",
       "      <td>§16 Abs.2 StAG, ausl.minderjährige Kinder (b.2...</td>\n",
       "      <td>1906</td>\n",
       "    </tr>\n",
       "    <tr>\n",
       "      <th>15</th>\n",
       "      <td>§21 HAuslG, Heimatlose Ausländer</td>\n",
       "      <td>1686</td>\n",
       "    </tr>\n",
       "    <tr>\n",
       "      <th>17</th>\n",
       "      <td>§40c StAG, Übergangsreg. b. Anträgen b. 30.03....</td>\n",
       "      <td>4783</td>\n",
       "    </tr>\n",
       "    <tr>\n",
       "      <th>18</th>\n",
       "      <td>§6 (1.StaRegG), Aussiedler/Spätaussiedler (b.1...</td>\n",
       "      <td>0</td>\n",
       "    </tr>\n",
       "    <tr>\n",
       "      <th>19</th>\n",
       "      <td>§8 RuStAG, Einbürgerung von Ausländern (bis 1999)</td>\n",
       "      <td>0</td>\n",
       "    </tr>\n",
       "    <tr>\n",
       "      <th>21</th>\n",
       "      <td>§8 StAngRegG,Dt.Volkszugehörige im Inland (b.2...</td>\n",
       "      <td>363</td>\n",
       "    </tr>\n",
       "    <tr>\n",
       "      <th>27</th>\n",
       "      <td>§9 Abs.1 StAngRegG, Dt.Volksz. im Ausland (b.2...</td>\n",
       "      <td>736</td>\n",
       "    </tr>\n",
       "    <tr>\n",
       "      <th>28</th>\n",
       "      <td>§9 Abs.2 StAngRegG, Dt.Volksz. im Ausland (b.2...</td>\n",
       "      <td>41</td>\n",
       "    </tr>\n",
       "    <tr>\n",
       "      <th>29</th>\n",
       "      <td>§9 RuStAG, Ehegatten Deutscher (bis 1999)</td>\n",
       "      <td>0</td>\n",
       "    </tr>\n",
       "    <tr>\n",
       "      <th>31</th>\n",
       "      <td>§9 StAngRegG, Dt. Volkszugeh. im Ausland (b.2004)</td>\n",
       "      <td>144</td>\n",
       "    </tr>\n",
       "  </tbody>\n",
       "</table>\n",
       "</div>"
      ],
      "text/plain": [
       "                                     Rechtsgrundlagen  Value\n",
       "1   Art.2 d. Gesetzes z. Vermind. der Staatenlosig...   3567\n",
       "2   Sonstige nicht mehr anwendbare Rechtsgrl. (b.2...    341\n",
       "7             §10 Abs.3 StAG (i.V.m. § 10 Abs.1 StAG)   4155\n",
       "8   §11 StAngRegG, Dt. Volkszugeh. im Inland (b.2010)     49\n",
       "9   §12 Abs.1 StAngRegG,Frühere dt.Staatsang. (b.2...    115\n",
       "10     §13 StAG, Ehemalige Deutsche im Ausland lebend   4996\n",
       "11  §14 StAG, Ausl.m.Bindungen an Dtl., i.Ausl.lebend   2828\n",
       "12        §15 StAG Bundesbeamte im Ausland (bis 2004)      4\n",
       "13  §15 StAG, Wiedergutmachungseinbürg.nach Verfol...   2610\n",
       "14  §16 Abs.2 StAG, ausl.minderjährige Kinder (b.2...   1906\n",
       "15                   §21 HAuslG, Heimatlose Ausländer   1686\n",
       "17  §40c StAG, Übergangsreg. b. Anträgen b. 30.03....   4783\n",
       "18  §6 (1.StaRegG), Aussiedler/Spätaussiedler (b.1...      0\n",
       "19  §8 RuStAG, Einbürgerung von Ausländern (bis 1999)      0\n",
       "21  §8 StAngRegG,Dt.Volkszugehörige im Inland (b.2...    363\n",
       "27  §9 Abs.1 StAngRegG, Dt.Volksz. im Ausland (b.2...    736\n",
       "28  §9 Abs.2 StAngRegG, Dt.Volksz. im Ausland (b.2...     41\n",
       "29          §9 RuStAG, Ehegatten Deutscher (bis 1999)      0\n",
       "31  §9 StAngRegG, Dt. Volkszugeh. im Ausland (b.2004)    144"
      ]
     },
     "execution_count": 8,
     "metadata": {},
     "output_type": "execute_result"
    }
   ],
   "source": [
    "df_stat = json2df(\"12511-0006_staat\")\n",
    "df_stat = df_stat[df_stat[\"GES\"] == \"%TOTAL%\"]\n",
    "df_stat = df_stat[df_stat[\"STAAG6\"] == \"%TOTAL%\"]\n",
    "\n",
    "df_stat = df_stat.groupby([\"Jahr\", \"Rechtsgrundlagen\"])[\"Value\"].sum().reset_index()\n",
    "df_filter = df_stat.groupby([\"Rechtsgrundlagen\"])[\"Value\"].sum().reset_index()\n",
    "df_filter = df_filter[df_filter[\"Value\"]<10000]\n",
    "df_filter\n",
    "#df_stat.to_csv(\"einbürg_recht.csv\")"
   ]
  },
  {
   "cell_type": "code",
   "execution_count": 17,
   "id": "92d063f8-b20e-4bc6-af5c-46be3807fb61",
   "metadata": {},
   "outputs": [],
   "source": [
    "df_stat2 = json2df(\"12511-0006\")\n",
    "df_stat2 = df_stat2[df_stat2[\"GES\"] == \"%TOTAL%\"]\n",
    "\n",
    "df_stat2 = df_stat2.groupby([\"Jahr\", \"Ländergruppierungen\"])[\"Value\"].sum().reset_index()\n",
    "df_stat2\n",
    "df_stat2.to_csv(\"einbürg_ländergruppen.csv\")"
   ]
  },
  {
   "cell_type": "code",
   "execution_count": 7,
   "id": "5e72fc55-bb28-4ffa-890b-9bf9c226aa8e",
   "metadata": {},
   "outputs": [
    {
     "name": "stdout",
     "output_type": "stream",
     "text": [
      "['statistic', 'statistic_desc', 'DINSG', 'Deutschland insgesamt', 'NAT', 'Nationalität', 'content', 'content_desc', 'JAHR', 'Jahr', 'HZLDR1', 'Herkunfts-/Zielländer', 'Value']\n"
     ]
    }
   ],
   "source": [
    "df_stat3 = json2df(\"12711-0008\")\n",
    "df_stat3 = df_stat3[df_stat3[\"NAT\"]==\"NATA\"]\n",
    "df_stat3 = df_stat3[df_stat3[\"content\"]==\"BEV012\"]\n",
    "df_stat3 = df_stat3[df_stat3[\"HZLDR1\"]!=\"%TOTAL%\"]\n",
    "df_stat3 = df_stat3.groupby([\"Jahr\", \"Herkunfts-/Zielländer\"])[\"Value\"].sum().reset_index()\n",
    "df_stat3.to_csv(\"wander_staaten.csv\")"
   ]
  },
  {
   "cell_type": "code",
   "execution_count": 12,
   "id": "a1042b15-73e1-4e60-9d11-0be6ac05e09d",
   "metadata": {},
   "outputs": [
    {
     "name": "stdout",
     "output_type": "stream",
     "text": [
      "['statistic', 'statistic_desc', 'DINSG', 'Deutschland insgesamt', 'NAT', 'Nationalität', 'content', 'content_desc', 'JAHR', 'Jahr', 'HZLDR1', 'Herkunfts-/Zielländer', 'Value']\n"
     ]
    }
   ],
   "source": [
    "df_stat4 = json2df(\"12711-0008\")\n",
    "df_stat4 = df_stat4[df_stat4[\"NAT\"]==\"NATA\"]\n",
    "df_stat4 = df_stat4[df_stat4[\"HZLDR1\"]==\"%TOTAL%\"]\n",
    "df_stat4[\"Art\"] = df_stat4[\"content_desc\"]\n",
    "df_stat4 = df_stat4.groupby([\"Jahr\", \"Art\"])[\"Value\"].sum().reset_index()\n",
    "df_stat4.to_csv(\"wander_gesamt.csv\")"
   ]
  },
  {
   "cell_type": "code",
   "execution_count": 13,
   "id": "3f358737-123c-4030-a21f-18c32c381382",
   "metadata": {},
   "outputs": [
    {
     "name": "stdout",
     "output_type": "stream",
     "text": [
      "['statistic', 'statistic_desc', 'DINSG', 'Deutschland insgesamt', 'NAT', 'Nationalität', 'content', 'content_desc', 'JAHR', 'Jahr', 'HZLDR1', 'Herkunfts-/Zielländer', 'Value']\n"
     ]
    }
   ],
   "source": [
    "df_stat4 = json2df(\"12711-0008\")\n",
    "df_stat4 = df_stat4[df_stat4[\"NAT\"]==\"NATD\"]\n",
    "df_stat4 = df_stat4[df_stat4[\"HZLDR1\"]==\"%TOTAL%\"]\n",
    "df_stat4[\"Art\"] = df_stat4[\"content_desc\"]\n",
    "df_stat4 = df_stat4.groupby([\"Jahr\", \"Art\"])[\"Value\"].sum().reset_index()\n",
    "df_stat4.to_csv(\"wander_gesamt_de.csv\")"
   ]
  },
  {
   "cell_type": "code",
   "execution_count": 8,
   "id": "5291daff-642e-4e0b-8aff-84bec7045716",
   "metadata": {},
   "outputs": [],
   "source": [
    "df_stat5 = json2df(\"12511-0006_staat\")\n",
    "df_stat5 = df_stat5[df_stat5[\"GES\"] == \"%TOTAL%\"]\n",
    "df_stat5 = df_stat5[df_stat5[\"STAAG6\"] == \"%TOTAL%\"]\n",
    "\n",
    "df_stat5 = df_stat5.groupby([\"Jahr\", \"Staatsangehörigkeit\"])[\"Value\"].sum().reset_index()\n",
    "df_stat5\n",
    "df_stat5.to_csv(\"einbürg_gesamt.csv\")"
   ]
  },
  {
   "cell_type": "code",
   "execution_count": null,
   "id": "eac3c0a1-e926-44ed-b1e9-e0e063eb4d3b",
   "metadata": {},
   "outputs": [],
   "source": []
  }
 ],
 "metadata": {
  "kernelspec": {
   "display_name": "Python 3 (ipykernel)",
   "language": "python",
   "name": "python3"
  },
  "language_info": {
   "codemirror_mode": {
    "name": "ipython",
    "version": 3
   },
   "file_extension": ".py",
   "mimetype": "text/x-python",
   "name": "python",
   "nbconvert_exporter": "python",
   "pygments_lexer": "ipython3",
   "version": "3.13.2"
  }
 },
 "nbformat": 4,
 "nbformat_minor": 5
}
