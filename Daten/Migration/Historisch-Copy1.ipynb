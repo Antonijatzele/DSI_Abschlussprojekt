{
 "cells": [
  {
   "cell_type": "code",
   "execution_count": 2,
   "id": "efcceecd-5056-4df6-abcf-933f74987601",
   "metadata": {},
   "outputs": [],
   "source": [
    "from destasis import json2df\n",
    "import pandas as pd"
   ]
  },
  {
   "cell_type": "code",
   "execution_count": 9,
   "id": "ab27136d-4f78-4836-89c4-ff12b74d7f88",
   "metadata": {},
   "outputs": [],
   "source": [
    "df_stat5 = json2df(\"12511-0006_staat\")\n",
    "df_stat5 = df_stat5[df_stat5[\"GES\"] == \"%TOTAL%\"]\n",
    "df_stat5 = df_stat5[df_stat5[\"STAAG6\"] != \"%TOTAL%\"]\n",
    "\n",
    "df_stat5 = df_stat5.groupby([\"Jahr\", \"Staatsangehörigkeit\"])[\"Value\"].sum().reset_index()\n",
    "df_stat5\n",
    "df_stat5.to_csv(\"einbürg_staaten.csv\")"
   ]
  },
  {
   "cell_type": "code",
   "execution_count": 14,
   "id": "56d2244a-5538-4950-9ccb-049c907a0d4c",
   "metadata": {},
   "outputs": [],
   "source": [
    "df_stat = json2df(\"12511-0006_staat\")\n",
    "df_stat = df_stat[df_stat[\"GES\"] == \"%TOTAL%\"]\n",
    "df_stat = df_stat[df_stat[\"STAAG6\"] == \"%TOTAL%\"]\n",
    "\n",
    "df_stat = df_stat.groupby([\"Jahr\", \"Rechtsgrundlagen\"])[\"Value\"].sum().reset_index()\n",
    "df_stat.to_csv(\"einbürg_recht.csv\")"
   ]
  },
  {
   "cell_type": "code",
   "execution_count": 17,
   "id": "92d063f8-b20e-4bc6-af5c-46be3807fb61",
   "metadata": {},
   "outputs": [],
   "source": [
    "df_stat2 = json2df(\"12511-0006\")\n",
    "df_stat2 = df_stat2[df_stat2[\"GES\"] == \"%TOTAL%\"]\n",
    "\n",
    "df_stat2 = df_stat2.groupby([\"Jahr\", \"Ländergruppierungen\"])[\"Value\"].sum().reset_index()\n",
    "df_stat2\n",
    "df_stat2.to_csv(\"einbürg_ländergruppen.csv\")"
   ]
  },
  {
   "cell_type": "code",
   "execution_count": null,
   "id": "5e72fc55-bb28-4ffa-890b-9bf9c226aa8e",
   "metadata": {},
   "outputs": [],
   "source": []
  }
 ],
 "metadata": {
  "kernelspec": {
   "display_name": "Python 3 (ipykernel)",
   "language": "python",
   "name": "python3"
  },
  "language_info": {
   "codemirror_mode": {
    "name": "ipython",
    "version": 3
   },
   "file_extension": ".py",
   "mimetype": "text/x-python",
   "name": "python",
   "nbconvert_exporter": "python",
   "pygments_lexer": "ipython3",
   "version": "3.13.2"
  }
 },
 "nbformat": 4,
 "nbformat_minor": 5
}
