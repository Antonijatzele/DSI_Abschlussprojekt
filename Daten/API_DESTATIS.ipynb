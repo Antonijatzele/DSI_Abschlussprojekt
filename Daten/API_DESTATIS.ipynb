{
 "cells": [
  {
   "cell_type": "code",
   "execution_count": 29,
   "id": "c894f09a-1eb3-4192-9b99-edc7af7cb656",
   "metadata": {},
   "outputs": [],
   "source": [
    "import requests\n",
    "import zipfile\n",
    "import io\n",
    "\n",
    "# Zugangsdaten einfügen\n",
    "USERNAME = \"einfügen...\"\n",
    "PASSWORD = \"einfügen...\"\n",
    "TABLE = \"Wanderungsstatistik\"\n",
    "TABLE_CODE = \"12711-0005\"\n"
   ]
  },
  {
   "cell_type": "code",
   "execution_count": 31,
   "id": "01b244c1-7f80-4536-9953-52b2d28c1bb4",
   "metadata": {},
   "outputs": [
    {
     "name": "stdout",
     "output_type": "stream",
     "text": [
      "📄 Content-Type: application/zip\n",
      "📦 Enthaltene Dateien: ['12711-0005_1746622722680_de.csv']\n",
      "✅ Datei erfolgreich extrahiert: 12711-0005_1746622722680_de.csv\n",
      "✅ Datei gespeichert als: Wanderungsstatistik_12711-0005.csv\n"
     ]
    }
   ],
   "source": [
    "# API-Endpunkt\n",
    "url = \"https://www-genesis.destatis.de/genesisWS/rest/2020/data/tablefile\"\n",
    "\n",
    "# Anfrageparameter\n",
    "params = {\n",
    "    \"username\": USERNAME,\n",
    "    \"password\": PASSWORD,\n",
    "    \"name\": TABLE_CODE,\n",
    "    \"area\": \"all\",\n",
    "    \"compress\": \"false\",      # falls ZIP-Datei auf true setzen\n",
    "    \"transpose\": \"false\",\n",
    "    \"startyear\": \"2015\",\n",
    "    \"endyear\": \"2023\",\n",
    "    \"language\": \"de\"\n",
    "}\n",
    "\n",
    "# API-Anfrage\n",
    "response = requests.get(url, params=params)\n",
    "\n",
    "# Erfolg prüfen\n",
    "if response.status_code == 200:\n",
    "    content_type = response.headers.get(\"Content-Type\", \"\")\n",
    "    print(\"📄 Content-Type:\", content_type)\n",
    "\n",
    "    if \"zip\" in content_type or params[\"compress\"] == \"true\":\n",
    "        try:\n",
    "            with zipfile.ZipFile(io.BytesIO(response.content)) as z:\n",
    "                print(\"📦 Enthaltene Dateien:\", z.namelist())\n",
    "                extracted_file = z.namelist()[0]\n",
    "                z.extract(extracted_file, path=\".\")\n",
    "                print(f\"✅ Datei erfolgreich extrahiert: {extracted_file}\")\n",
    "\n",
    "                 # Neuen Namen definieren\n",
    "                new_filename = f\"{TABLE}_{TABLE_CODE}.csv\"\n",
    "    \n",
    "                # Ursprüngliche Datei umbenennen\n",
    "                os.rename(extracted_file, new_filename)\n",
    "                print(f\"✅ Datei gespeichert als: {new_filename}\")\n",
    "        except zipfile.BadZipFile:\n",
    "            print(\"❌ Fehler: Datei ist keine gültige ZIP-Datei.\")\n",
    "    else:\n",
    "        # Nicht komprimierte Datei speichern\n",
    "        with open(f\"{TABLE}_{TABLE_CODE}.csv\", \"wb\") as f:\n",
    "            f.write(response.content)\n",
    "        print(f\"✅ CSV-Datei gespeichert als {TABLE}_{TABLE_CODE}.csv\")\n",
    "else:\n",
    "    print(\"❌ Fehler beim Abrufen der Daten.\")\n",
    "    print(\"Status Code:\", response.status_code)\n",
    "    print(\"Antwort:\", response.text)"
   ]
  },
  {
   "cell_type": "code",
   "execution_count": null,
   "id": "0df09da2-8576-423b-a716-68cbcda3b359",
   "metadata": {},
   "outputs": [],
   "source": []
  }
 ],
 "metadata": {
  "kernelspec": {
   "display_name": "Python 3 (ipykernel)",
   "language": "python",
   "name": "python3"
  },
  "language_info": {
   "codemirror_mode": {
    "name": "ipython",
    "version": 3
   },
   "file_extension": ".py",
   "mimetype": "text/x-python",
   "name": "python",
   "nbconvert_exporter": "python",
   "pygments_lexer": "ipython3",
   "version": "3.13.2"
  }
 },
 "nbformat": 4,
 "nbformat_minor": 5
}
